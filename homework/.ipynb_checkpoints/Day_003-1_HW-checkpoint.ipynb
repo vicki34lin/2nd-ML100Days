{
 "cells": [
  {
   "cell_type": "markdown",
   "metadata": {},
   "source": [
    "## 練習時間\n",
    "在小量的資料上，我們用眼睛就可以看得出來程式碼是否有跑出我們理想中的結果\n",
    "\n",
    "請嘗試想像一個你需要的資料結構 (裡面的值可以是隨機的)，然後用上述的方法把它變成 pandas DataFrame\n",
    "\n",
    "#### Ex: 想像一個 dataframe 有兩個欄位，一個是國家，一個是人口，求人口數最多的國家\n",
    "\n",
    "### Hints: [隨機產生數值](https://blog.csdn.net/christianashannon/article/details/78867204)"
   ]
  },
  {
   "cell_type": "code",
   "execution_count": 1,
   "metadata": {},
   "outputs": [],
   "source": [
    "import pandas as pd\n",
    "import numpy as np"
   ]
  },
  {
   "cell_type": "code",
   "execution_count": 2,
   "metadata": {},
   "outputs": [
    {
     "name": "stdout",
     "output_type": "stream",
     "text": [
      "   國家        人口\n",
      "0   A   8426410\n",
      "1   B  24907330\n",
      "2   C  73435864\n",
      "3   D   7294861\n",
      "4   E  37967649\n",
      "5   F  48661502\n",
      "6   G  52969952\n",
      "7   H   7223646\n",
      "8   I  55675258\n",
      "9   J  37492644\n",
      "10  K  48362123\n",
      "11  L  96196361\n",
      "12  M  88201703\n",
      "13  N   1975296\n",
      "14  O  25430841\n",
      "15  P  42031137\n",
      "16  Q  95784690\n",
      "17  R  37599218\n",
      "18  S  66558512\n",
      "19  T   4284252\n",
      "20  U  33560863\n",
      "21  V  97797649\n",
      "22  W  73205855\n",
      "23  X  85264210\n",
      "24  Y  10002493\n",
      "25  Z  22299287\n"
     ]
    }
   ],
   "source": [
    "data = {'國家': [chr(i) for i in range(ord('A'), ord('Z')+1)],\n",
    "        '人口': [j for j in np.random.randint(10000, 100000000,size=26)]}\n",
    "df = pd.DataFrame(data)\n",
    "print(df)"
   ]
  },
  {
   "cell_type": "code",
   "execution_count": 3,
   "metadata": {},
   "outputs": [
    {
     "name": "stdout",
     "output_type": "stream",
     "text": [
      "人口數最多的國家為：V\n"
     ]
    }
   ],
   "source": [
    "largest_population_country = df['國家'][df['人口'].idxmax()]\n",
    "print('人口數最多的國家為：%s' % (largest_population_country))"
   ]
  }
 ],
 "metadata": {
  "kernelspec": {
   "display_name": "Python 3",
   "language": "python",
   "name": "python3"
  },
  "language_info": {
   "codemirror_mode": {
    "name": "ipython",
    "version": 3
   },
   "file_extension": ".py",
   "mimetype": "text/x-python",
   "name": "python",
   "nbconvert_exporter": "python",
   "pygments_lexer": "ipython3",
   "version": "3.7.3"
  }
 },
 "nbformat": 4,
 "nbformat_minor": 2
}
